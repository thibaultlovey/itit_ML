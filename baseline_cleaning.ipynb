{
 "cells": [
  {
   "cell_type": "code",
   "execution_count": 27,
   "metadata": {},
   "outputs": [],
   "source": [
    "import pandas as pd\n",
    "import numpy as np\n",
    "from skimpy import clean_columns\n",
    "import pycountry\n",
    "import pycountry_convert as pc"
   ]
  },
  {
   "cell_type": "code",
   "execution_count": 28,
   "metadata": {},
   "outputs": [],
   "source": [
    "# Read the CSV file\n",
    "baseline = pd.read_csv(\"data_raw/baseline_raw_28_01_25.csv\")\n",
    "# Clean column names\n",
    "baseline=clean_columns(baseline)\n",
    "# remove useless columns\n",
    "baseline = baseline.drop(columns=[\"identifier\", \"started\"] + list(baseline.loc[:, \"location_ts\":\"context_weather_timezone\"].columns))\n",
    "# remove useless rows\n",
    "baseline = baseline.drop([0,1])"
   ]
  },
  {
   "cell_type": "code",
   "execution_count": 29,
   "metadata": {},
   "outputs": [],
   "source": [
    "# Ensure the 'finished' column is in datetime format\n",
    "baseline[['finished', 'registration_travel_travel_date']] = baseline[['finished', 'registration_travel_travel_date']].apply(pd.to_datetime, format='ISO8601')"
   ]
  },
  {
   "cell_type": "code",
   "execution_count": 30,
   "metadata": {},
   "outputs": [],
   "source": [
    "# Define the complex transformation function\n",
    "def transform_row(row):\n",
    "    if not pd.isna(row['registration_health_chronics_0']):\n",
    "        return \"None\"\n",
    "    elif not pd.isna(row['registration_health_chronics_1']) and pd.isna(row['registration_health_chronics_2']) and pd.isna(row['registration_health_chronics_3']) and pd.isna(row['registration_health_chronics_4']):\n",
    "        return \"High blood pressure\"\n",
    "    elif pd.isna(row['registration_health_chronics_1']) and not pd.isna(row['registration_health_chronics_2']) and pd.isna(row['registration_health_chronics_3']) and pd.isna(row['registration_health_chronics_4']):\n",
    "        return \"Diabetes\"\n",
    "    elif pd.isna(row['registration_health_chronics_1']) and pd.isna(row['registration_health_chronics_2']) and not pd.isna(row['registration_health_chronics_3']) and pd.isna(row['registration_health_chronics_4']):\n",
    "        return \"Heart diseases\"\n",
    "    elif pd.isna(row['registration_health_chronics_1']) and pd.isna(row['registration_health_chronics_2']) and pd.isna(row['registration_health_chronics_3']) and not pd.isna(row['registration_health_chronics_4']):\n",
    "        return \"Immunosuppression\"\n",
    "    else:\n",
    "        return \"Multiple\"\n",
    "\n",
    "baseline['health_chronic'] = baseline.apply(transform_row, axis=1)"
   ]
  },
  {
   "cell_type": "code",
   "execution_count": 31,
   "metadata": {},
   "outputs": [],
   "source": [
    "def transform_registration_basics_gender(x):\n",
    "    if x == \"0\":\n",
    "        return \"Male\"\n",
    "    elif x == \"1\":\n",
    "        return \"Female\"\n",
    "    elif x == \"2\":\n",
    "        return \"Other\"\n",
    "    else:\n",
    "        return np.nan\n",
    "    \n",
    "baseline['registration_basics_gender'] = baseline['registration_basics_gender'].apply(transform_registration_basics_gender)"
   ]
  },
  {
   "cell_type": "code",
   "execution_count": 32,
   "metadata": {},
   "outputs": [],
   "source": [
    "def transform_registration_health_smoking(x):\n",
    "    if x == \"0\":\n",
    "        return \"Not smoking\"\n",
    "    elif x == \"1\":\n",
    "        return \"Daily\"\n",
    "    elif x == \"2\":\n",
    "        return \"Weekly\"\n",
    "    elif x == \"3\":\n",
    "        return \"Monthly\"\n",
    "    elif x == \"4\":\n",
    "        return \"Former smoker\"\n",
    "    else:\n",
    "        return np.nan\n",
    "\n",
    "baseline['registration_health_smoking'] = baseline['registration_health_smoking'].apply(transform_registration_health_smoking)"
   ]
  },
  {
   "cell_type": "code",
   "execution_count": 33,
   "metadata": {},
   "outputs": [],
   "source": [
    "# Filter test data\n",
    "baseline = baseline[baseline['registration_travel_travel_purpose'] != '4: testing push']\n",
    "baseline = baseline[baseline['registration_travel_travel_purpose'] != \"4: test\"]\n",
    "baseline = baseline[baseline['registration_travel_travel_purpose'] != \"5: test\"]\n",
    "baseline = baseline[baseline['registration_travel_travel_purpose'] != \"4: teat 130\"]\n",
    "\n",
    "def transform_registration_travel_purpose(x):\n",
    "    if x == \"0\":\n",
    "        return \"Leisure/tourist travellers\"\n",
    "    elif x == \"1\":\n",
    "        return \"Business/corporate travellers\"\n",
    "    elif x == \"2\":\n",
    "        return \"Visiting friends and relatives (VFR)\"\n",
    "    elif x == \"3\":\n",
    "        return \"Mass gathering events (Hajj, Olympics, World Cup)\"\n",
    "    elif x == \"4: festival\":\n",
    "        return \"Mass gathering events (Hajj, Olympics, World Cup)\"\n",
    "    elif x in [\"4: Cross border worker (and also family)\", \"4: work\", \"4: in einer Schule arbeiten (freiwillig)\",\"4: My Job (Flight Attendant)\",\"4: Cabin Crew\",\"4: volunteering \",\n",
    "               \"4: mission humanitaire\", \"4: conference \", \"4: volunteer work in a school\", \"4: volunteerwork\", \"4: Volunteer \",\"4: volontariat\",\"4: work in a hospital\",\n",
    "               \"4: Dreharbeiten\",\"4: voluntaria\",\"4: Voyage humanitaire\",\"4: construction\",\"4: NGO project\",\"4: Weltwärts Dienst\",\"4: work with surgeons\",\"4: tourism and voluntary work\"]:\n",
    "        return \"Work\"\n",
    "    elif x in [\"4: formation \", \"4: intership\", \"4: Internship\", \"4: Research\", \"4: research exchange \",\"4: Studium\",\"4: University elective\",\"4: utlandsstudier\",\n",
    "               \"4: stage en médecine\", \"4: stage médecine tropicale \", \"4: stage en médecine\", \"4: studie\",\n",
    "               \"4: stage médical \", \"4: Uni (Austauschsemester?\", \"4: Auslandssemester\", \"4: mission humanitaire\",\n",
    "               \"4: conference \", \"4: Auslands Semester von der UZH\", \"4: forschungs Praktikum\",\n",
    "               \"4: travail de Master en médecine\", \"4: Travail de terrain pour mon mémoire de master\",\n",
    "               \"4: Austauschstudium\",\"4: Study\",\"4: Tourist und Ausbildung\",\"4: congres\",\"4: conference\",\"4: attending lectures\",\n",
    "               \"4: Voyage humanitaire \"]:\n",
    "        return \"Education\"\n",
    "    elif x in [\"4: Altro\", \"4: Other\", \"5: moldova\", \"4: Autre\", \"4: Andere\", \"4: Militärdienst\", \"4: Freiwilligendienst\",\n",
    "               \"4: Auswandern\"]:\n",
    "        return \"Other\"\n",
    "    elif x in [\"4: Hochzeit unseres Sohnes in Indien\",\"4: Besuch meiner Kinderpoliklink\"]:\n",
    "        return \"Visiting friends and relatives (VFR)\"\n",
    "    elif x in [\"4: Tourist travelling and visiting friends\", \"5: Besuch Eishockeyturnier der Schweizer U16 Nationalmannschaft \",\n",
    "               \"4: Weihnachten/Neujahr\", \"4: Visiting\", \"4: Aufenthalt in einem Ashram \", \"4: tourism, NGO\",\"4: holiday \"]:\n",
    "        return \"Leisure/tourist travellers\"\n",
    "    elif x in [\"5: Беженец / мигрант (пожалуйста, укажите страну происхождения)\", \"5: Біженець / мігрант (будь ласка, введіть країну походження)\",\n",
    "               \"5: Ukraine\", \"5: Ukraine \", \"5: Украина \", \"5: Украина\", \"5: украина\", \"5: Швейцария \",\n",
    "               \"5: Refugee / Migrant (please enter country of origin)\", \"5: Flüchtling / Migrant (bitte Herkunftsland angeben)\",\n",
    "               \"5: refugee/Ukraine \",\"5: Україна\",\"5: Réfugié / Migrant (veuillez indiquer le pays d'origine)\"]:\n",
    "        return \"Refugee/Ukraine\"\n",
    "    elif pd.isna(x):\n",
    "        return np.nan\n",
    "    else:\n",
    "        return x\n",
    "baseline['registration_travel_travel_purpose'] = baseline['registration_travel_travel_purpose'].apply(transform_registration_travel_purpose)"
   ]
  },
  {
   "cell_type": "code",
   "execution_count": 34,
   "metadata": {},
   "outputs": [
    {
     "data": {
      "text/plain": [
       "registration_travel_travel_purpose\n",
       "Leisure/tourist travellers                           1075\n",
       "Business/corporate travellers                         260\n",
       "Visiting friends and relatives (VFR)                  243\n",
       "Refugee/Ukraine                                        58\n",
       "Education                                              28\n",
       "Mass gathering events (Hajj, Olympics, World Cup)      25\n",
       "Work                                                   20\n",
       "Other                                                  17\n",
       "Name: count, dtype: int64"
      ]
     },
     "execution_count": 34,
     "metadata": {},
     "output_type": "execute_result"
    }
   ],
   "source": [
    "baseline['registration_travel_travel_purpose'].value_counts()"
   ]
  },
  {
   "cell_type": "code",
   "execution_count": 35,
   "metadata": {},
   "outputs": [],
   "source": [
    "# Rename the columns\n",
    "baseline = baseline.rename(columns={\n",
    "    'user_id': 'user_id',\n",
    "    'id': 'trip_id',\n",
    "    'finished': 'baseline_date',\n",
    "    'registration_basics_age': 'age',\n",
    "    'registration_basics_gender': 'gender',\n",
    "    'registration_travel_country': 'country',\n",
    "    'registration_travel_country_identifier': 'country_iso2c',\n",
    "    'registration_travel_travel_purpose': 'travel_purpose',\n",
    "    'registration_travel_travel_date': 'travel_date',\n",
    "    'registration_travel_travel_duration': 'travel_duration',\n",
    "    'registration_health_smoking': 'smoking_status'\n",
    "})"
   ]
  },
  {
   "cell_type": "code",
   "execution_count": 36,
   "metadata": {},
   "outputs": [],
   "source": [
    "# Function to convert ISO2 country code to country name\n",
    "def iso2_to_country_name(iso2_code):\n",
    "    try:\n",
    "        return pycountry.countries.get(alpha_2=iso2_code).name\n",
    "    except AttributeError:\n",
    "        return None\n",
    "\n",
    "# Convert country_iso2c to uppercase\n",
    "baseline['country_iso2c'] = baseline['country_iso2c'].str.upper()\n",
    "\n",
    "# Apply the function to create a new column country_clean\n",
    "baseline['country_clean'] = baseline['country_iso2c'].apply(iso2_to_country_name)"
   ]
  },
  {
   "cell_type": "code",
   "execution_count": 37,
   "metadata": {},
   "outputs": [],
   "source": [
    "# Function to convert ISO2 country code to continent name\n",
    "def iso2_to_continent(iso2_code):\n",
    "    try:\n",
    "        continent_code = pc.country_alpha2_to_continent_code(iso2_code)\n",
    "        continent_name = pc.convert_continent_code_to_continent_name(continent_code)\n",
    "        return continent_name\n",
    "    except KeyError:\n",
    "        return None\n",
    "\n",
    "# Apply the first condition for specific continent names\n",
    "def determine_continent(iso2_code):\n",
    "    if iso2_code in [\"AFRICA\", \"AMERICAS\", \"ASIA\"]:\n",
    "        return iso2_code.title()\n",
    "    elif iso2_code == \"EU\":\n",
    "        return \"Europe\"\n",
    "    else:\n",
    "        continent = iso2_to_continent(iso2_code)\n",
    "        if continent in [\"South America\", \"North America\", \"Americas\"]:\n",
    "            return \"Americas\"\n",
    "        else:\n",
    "            return continent\n",
    "\n",
    "\n",
    "# Apply the function to create a new column continent_clean\n",
    "baseline['continent_clean'] = baseline['country_iso2c'].apply(determine_continent)"
   ]
  },
  {
   "cell_type": "code",
   "execution_count": 38,
   "metadata": {},
   "outputs": [],
   "source": [
    "baseline = baseline[baseline.columns[:baseline.columns.get_loc('country_iso2c') + 1].tolist() + ['country_clean', 'continent_clean'] + baseline.columns[baseline.columns.get_loc('country_iso2c') + 1:].difference(['country_clean', 'continent_clean']).tolist()]"
   ]
  },
  {
   "cell_type": "code",
   "execution_count": 39,
   "metadata": {},
   "outputs": [],
   "source": [
    "baseline = baseline.drop(columns=['country','registration_health_chronics_0','registration_health_chronics_1','registration_health_chronics_2','registration_health_chronics_3','registration_health_chronics_4'])"
   ]
  },
  {
   "cell_type": "code",
   "execution_count": 40,
   "metadata": {},
   "outputs": [],
   "source": [
    "baseline[['age', 'travel_duration']] = baseline[['age', 'travel_duration']].astype('float64')"
   ]
  },
  {
   "cell_type": "code",
   "execution_count": 41,
   "metadata": {},
   "outputs": [],
   "source": [
    "# check duplicate\n",
    "baseline[baseline.duplicated(subset=['trip_id'], keep=False)]\n",
    "# Filter the DataFrame to include rows with unique trip_id values\n",
    "baseline = baseline.drop_duplicates(subset=['trip_id'])"
   ]
  },
  {
   "cell_type": "code",
   "execution_count": 42,
   "metadata": {},
   "outputs": [],
   "source": [
    "# Identify the rows that match the specified conditions (devlopper test)\n",
    "to_drop = baseline[\n",
    "    (baseline['user_id'] == \"71dWvTtxniTevm5Wrw7wazKjit93\") & (baseline['trip_id'] == \"SJBoI6Fef46aDKZvpyp3\") |\n",
    "    (baseline['user_id'] == \"dPhQWSZVVFWrR1kWAGACyMLWXzW2\") & (baseline['trip_id'] == \"Zrgm5OEyv1YKdUTi2IRr\") |\n",
    "    (baseline['user_id'] == \"hheBd0VfyLZLE43RaHbRPAidZmH2\") & (baseline['trip_id'] == \"n6Ec93wurCFoe4RyARDi\") |\n",
    "    (baseline['user_id'] == \"TUWZNk1ALPWqEVPSRjeLb55gM7h1\") |\n",
    "    (baseline['user_id'] == \"VhNJxOlWpyOAcQK7fdlaZdiZJg13\") |\n",
    "    (baseline['user_id'] == \"tnouLlta6AMr0NtgQu1pTTNxy503\")\n",
    "]\n",
    "\n",
    "# Drop the rows that match the specified conditions\n",
    "filtered_baseline = baseline.drop(to_drop.index)"
   ]
  },
  {
   "cell_type": "code",
   "execution_count": 43,
   "metadata": {},
   "outputs": [],
   "source": [
    "baseline['trip_number'] = baseline.sort_values(by=['user_id', 'travel_date']).groupby('user_id').cumcount() + 1\n",
    "# Define a function to label trip_number automatically\n",
    "def label_trip_number(n):\n",
    "    return f\"Trip {n}\"\n",
    "\n",
    "# Apply the function to trip_number\n",
    "baseline['trip_number'] = baseline['trip_number'].apply(label_trip_number)"
   ]
  },
  {
   "cell_type": "code",
   "execution_count": 44,
   "metadata": {},
   "outputs": [],
   "source": [
    "baseline.to_pickle('data_clean/baseline_clean.pkl')"
   ]
  },
  {
   "cell_type": "code",
   "execution_count": 45,
   "metadata": {},
   "outputs": [
    {
     "name": "stdout",
     "output_type": "stream",
     "text": [
      "<class 'pandas.core.frame.DataFrame'>\n",
      "Index: 1726 entries, 2 to 1759\n",
      "Data columns (total 16 columns):\n",
      " #   Column           Non-Null Count  Dtype         \n",
      "---  ------           --------------  -----         \n",
      " 0   trip_id          1726 non-null   object        \n",
      " 1   user_id          1726 non-null   object        \n",
      " 2   baseline_date    1726 non-null   datetime64[ns]\n",
      " 3   age              1726 non-null   float64       \n",
      " 4   gender           1721 non-null   object        \n",
      " 5   country_iso2c    1726 non-null   object        \n",
      " 6   country_clean    1371 non-null   object        \n",
      " 7   continent_clean  1719 non-null   object        \n",
      " 8   health_chronic   1726 non-null   object        \n",
      " 9   latitude         1484 non-null   float64       \n",
      " 10  longitude        1484 non-null   float64       \n",
      " 11  smoking_status   1725 non-null   object        \n",
      " 12  travel_date      1726 non-null   datetime64[ns]\n",
      " 13  travel_duration  1726 non-null   float64       \n",
      " 14  travel_purpose   1726 non-null   object        \n",
      " 15  trip_number      1726 non-null   object        \n",
      "dtypes: datetime64[ns](2), float64(4), object(10)\n",
      "memory usage: 293.8+ KB\n"
     ]
    }
   ],
   "source": [
    "baseline.info(verbose=True)"
   ]
  }
 ],
 "metadata": {
  "kernelspec": {
   "display_name": "Python 3",
   "language": "python",
   "name": "python3"
  },
  "language_info": {
   "codemirror_mode": {
    "name": "ipython",
    "version": 3
   },
   "file_extension": ".py",
   "mimetype": "text/x-python",
   "name": "python",
   "nbconvert_exporter": "python",
   "pygments_lexer": "ipython3",
   "version": "3.12.8"
  }
 },
 "nbformat": 4,
 "nbformat_minor": 2
}
