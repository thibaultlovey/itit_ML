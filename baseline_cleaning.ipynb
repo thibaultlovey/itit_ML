{
 "cells": [
  {
   "cell_type": "code",
   "execution_count": 76,
   "metadata": {},
   "outputs": [],
   "source": [
    "import pandas as pd\n",
    "import numpy as np\n",
    "from skimpy import clean_columns"
   ]
  },
  {
   "cell_type": "code",
   "execution_count": 77,
   "metadata": {},
   "outputs": [],
   "source": [
    "# Read the CSV file\n",
    "survey = pd.read_csv(\"data_raw/baseline_raw_03_06_24.csv\")\n",
    "# Clean column names\n",
    "survey=clean_columns(survey)\n",
    "# remove useless columns\n",
    "survey = survey.drop(columns=[\"identifier\", \"id\", \"started\"] + list(survey.loc[:, \"location_ts\":\"context_weather_timezone\"].columns))\n",
    "# remove useless rows\n",
    "survey = survey.drop([0,1])"
   ]
  },
  {
   "cell_type": "code",
   "execution_count": 78,
   "metadata": {},
   "outputs": [],
   "source": [
    "# Ensure the 'finished' column is in datetime format\n",
    "survey['finished'] = pd.to_datetime(survey['finished'], format='ISO8601')"
   ]
  },
  {
   "cell_type": "code",
   "execution_count": 79,
   "metadata": {},
   "outputs": [],
   "source": [
    "# Define the complex transformation function\n",
    "def transform_row(row):\n",
    "    if not pd.isna(row['registration_health_chronics_0']):\n",
    "        return \"None\"\n",
    "    elif not pd.isna(row['registration_health_chronics_1']) and pd.isna(row['registration_health_chronics_2']) and pd.isna(row['registration_health_chronics_3']) and pd.isna(row['registration_health_chronics_4']):\n",
    "        return \"High blood pressure\"\n",
    "    elif pd.isna(row['registration_health_chronics_1']) and not pd.isna(row['registration_health_chronics_2']) and pd.isna(row['registration_health_chronics_3']) and pd.isna(row['registration_health_chronics_4']):\n",
    "        return \"Diabetes\"\n",
    "    elif pd.isna(row['registration_health_chronics_1']) and pd.isna(row['registration_health_chronics_2']) and not pd.isna(row['registration_health_chronics_3']) and pd.isna(row['registration_health_chronics_4']):\n",
    "        return \"Heart diseases\"\n",
    "    elif pd.isna(row['registration_health_chronics_1']) and pd.isna(row['registration_health_chronics_2']) and pd.isna(row['registration_health_chronics_3']) and not pd.isna(row['registration_health_chronics_4']):\n",
    "        return \"Immunosuppression\"\n",
    "    else:\n",
    "        return \"Multiple\"\n",
    "\n",
    "survey['health_condition'] = survey.apply(transform_row, axis=1)"
   ]
  },
  {
   "cell_type": "code",
   "execution_count": null,
   "metadata": {},
   "outputs": [],
   "source": [
    "def transform_registration_basics_gender(x):\n",
    "    if x == \"0\":\n",
    "        return \"Male\"\n",
    "    elif x == \"1\":\n",
    "        return \"Female\"\n",
    "    elif x == \"2\":\n",
    "        return \"Other\"\n",
    "    else:\n",
    "        return np.nan\n",
    "    \n",
    "survey['registration_basics_gender'] = survey['registration_basics_gender'].apply(transform_registration_basics_gender)"
   ]
  },
  {
   "cell_type": "code",
   "execution_count": null,
   "metadata": {},
   "outputs": [],
   "source": [
    "def transform_registration_health_smoking(x):\n",
    "    if x == \"0\":\n",
    "        return \"Not smoking\"\n",
    "    elif x == \"1\":\n",
    "        return \"Daily\"\n",
    "    elif x == \"2\":\n",
    "        return \"Weekly\"\n",
    "    elif x == \"3\":\n",
    "        return \"Monthly\"\n",
    "    elif x == \"4\":\n",
    "        return \"Former smoker\"\n",
    "    else:\n",
    "        return np.nan\n",
    "\n",
    "survey['registration_health_smoking'] = survey['registration_health_smoking'].apply(transform_registration_health_smoking)"
   ]
  },
  {
   "cell_type": "code",
   "execution_count": null,
   "metadata": {},
   "outputs": [],
   "source": [
    "# Filter test data\n",
    "survey = survey[survey['registration_travel_travel_purpose'] != '4: testing push']\n",
    "def transform_registration_travel_purpose(x):\n",
    "    if x == \"0\":\n",
    "        return \"Leisure/tourist travellers\"\n",
    "    elif x == \"1\":\n",
    "        return \"Business/corporate travellers\"\n",
    "    elif x == \"2\":\n",
    "        return \"Visiting friends and relatives (VFR)\"\n",
    "    elif x == \"3\":\n",
    "        return \"Mass gathering events (Hajj, Olympics, World Cup)\"\n",
    "    elif x == \"4: festival\":\n",
    "        return \"Mass gathering events (Hajj, Olympics, World Cup)\"\n",
    "    elif x in [\"4: Cross border worker (and also family)\", \"4: work\", \"4: in einer Schule arbeiten (freiwillig)\",\n",
    "               \"4: mission humanitaire\", \"4: conference \", \"4: volunteer work in a school\", \"4: volunteerwork\", \"4: Volunteer \",\n",
    "               \"4: Dreharbeiten\",\"4: voluntaria\",\"4: Voyage humanitaire\",\"4: construction\",\"4: NGO project\",\"4: Weltwärts Dienst\"]:\n",
    "        return \"Work\"\n",
    "    elif x in [\"4: formation \", \"4: intership\", \"4: Internship\", \"4: Research\", \"4: research exchange \",\n",
    "               \"4: stage en médecine\", \"4: stage médecine tropicale \", \"4: stage en médecine\", \"4: studie\",\n",
    "               \"4: stage médical \", \"4: Uni (Austauschsemester?\", \"4: Auslandssemester\", \"4: mission humanitaire\",\n",
    "               \"4: conference \", \"4: Auslands Semester von der UZH\", \"4: forschungs Praktikum\",\n",
    "               \"4: travail de Master en médecine\", \"4: Travail de terrain pour mon mémoire de master\",\n",
    "               \"4: Austauschstudium\",\"4: Study\",\"4: Tourist und Ausbildung\",\"4: congres\",\"4: conference\",\"4: attending lectures\",\n",
    "               \"4: Voyage humanitaire \"]:\n",
    "        return \"Education\"\n",
    "    elif x in [\"4: Altro\", \"4: Other\", \"4: test\", \"5: moldova\", \"4: Autre\", \"4: Andere\", \"4: Militärdienst\", \"4: Freiwilligendienst\",\n",
    "               \"4: Auswandern\"]:\n",
    "        return \"Other\"\n",
    "    elif x in [\"4: Hochzeit unseres Sohnes in Indien\"]:\n",
    "        return \"Visiting friends and relatives (VFR)\"\n",
    "    elif x in [\"4: Tourist travelling and visiting friends\", \"5: Besuch Eishockeyturnier der Schweizer U16 Nationalmannschaft \",\n",
    "               \"4: Weihnachten/Neujahr\", \"4: Visiting\", \"4: Aufenthalt in einem Ashram \", \"4: tourism, NGO\"]:\n",
    "        return \"Leisure/tourist travellers\"\n",
    "    elif x in [\"5: Беженец / мигрант (пожалуйста, укажите страну происхождения)\", \"5: Біженець / мігрант (будь ласка, введіть країну походження)\",\n",
    "               \"5: Ukraine\", \"5: Ukraine \", \"5: Украина \", \"5: Украина\", \"5: украина\", \"5: Швейцария \",\n",
    "               \"5: Refugee / Migrant (please enter country of origin)\", \"5: Flüchtling / Migrant (bitte Herkunftsland angeben)\",\n",
    "               \"5: refugee/Ukraine \",\"5: Україна\",\"5: Réfugié / Migrant (veuillez indiquer le pays d'origine)\"]:\n",
    "        return \"Refugee/Ukraine\"\n",
    "    elif pd.isna(x):\n",
    "        return np.nan\n",
    "    else:\n",
    "        return x\n",
    "survey['registration_travel_travel_purpose'] = survey['registration_travel_travel_purpose'].apply(transform_registration_travel_purpose)"
   ]
  },
  {
   "cell_type": "code",
   "execution_count": 24,
   "metadata": {},
   "outputs": [
    {
     "name": "stdout",
     "output_type": "stream",
     "text": [
      "<class 'pandas.core.frame.DataFrame'>\n",
      "RangeIndex: 1346 entries, 2 to 1347\n",
      "Data columns (total 17 columns):\n",
      " #   Column                                  Non-Null Count  Dtype         \n",
      "---  ------                                  --------------  -----         \n",
      " 0   user_id                                 1346 non-null   object        \n",
      " 1   finished                                1346 non-null   datetime64[ns]\n",
      " 2   registration_basics_age                 1346 non-null   object        \n",
      " 3   registration_basics_gender              1346 non-null   object        \n",
      " 4   registration_travel_country             1346 non-null   object        \n",
      " 5   registration_travel_country_identifier  1346 non-null   object        \n",
      " 6   registration_travel_travel_purpose      1346 non-null   object        \n",
      " 7   registration_travel_travel_date         1346 non-null   object        \n",
      " 8   registration_travel_travel_duration     1346 non-null   object        \n",
      " 9   registration_health_smoking             1345 non-null   object        \n",
      " 10  registration_health_chronics_0          1201 non-null   object        \n",
      " 11  registration_health_chronics_1          89 non-null     object        \n",
      " 12  registration_health_chronics_2          31 non-null     object        \n",
      " 13  registration_health_chronics_3          14 non-null     object        \n",
      " 14  registration_health_chronics_4          33 non-null     object        \n",
      " 15  latitude                                1142 non-null   float64       \n",
      " 16  longitude                               1142 non-null   float64       \n",
      "dtypes: datetime64[ns](1), float64(2), object(14)\n",
      "memory usage: 178.9+ KB\n"
     ]
    }
   ],
   "source": [
    "survey.info(verbose=True)"
   ]
  }
 ],
 "metadata": {
  "kernelspec": {
   "display_name": "Python 3",
   "language": "python",
   "name": "python3"
  },
  "language_info": {
   "codemirror_mode": {
    "name": "ipython",
    "version": 3
   },
   "file_extension": ".py",
   "mimetype": "text/x-python",
   "name": "python",
   "nbconvert_exporter": "python",
   "pygments_lexer": "ipython3",
   "version": "3.12.4"
  }
 },
 "nbformat": 4,
 "nbformat_minor": 2
}
