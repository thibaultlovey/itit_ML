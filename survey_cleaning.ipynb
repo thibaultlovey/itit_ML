{
 "cells": [
  {
   "cell_type": "code",
   "execution_count": 1,
   "metadata": {
    "colab": {
     "base_uri": "https://localhost:8080/",
     "height": 344
    },
    "executionInfo": {
     "elapsed": 1314,
     "status": "error",
     "timestamp": 1717418522105,
     "user": {
      "displayName": "Thibault Lovey",
      "userId": "01373291201607255069"
     },
     "user_tz": -120
    },
    "id": "mXwTX1akGeOe",
    "outputId": "6ed1adce-a80a-467e-989f-665908fe90cc"
   },
   "outputs": [],
   "source": [
    "import pandas as pd\n",
    "import numpy as np\n",
    "from skimpy import clean_columns\n",
    "from datetime import datetime\n",
    "import json\n",
    "import pickle"
   ]
  },
  {
   "cell_type": "code",
   "execution_count": 2,
   "metadata": {
    "id": "kX8nssBCGiHb"
   },
   "outputs": [
    {
     "name": "stderr",
     "output_type": "stream",
     "text": [
      "/var/folders/4x/g578bp9s1bs7z_0185h2n1wr0000gn/T/ipykernel_27440/2288290383.py:2: DtypeWarning: Columns (6,8,9,10,11,12,14,15,16,17,18,20,21,22,23,24,26,27,28,29,30,31,32,33,35,36,37,38,39,40,41,42,43,44,45,46,51,52,55,56,57,59,60,62,63,64,65,66,67,68,72,73,74,75,78,79,80,81,84,85,86,87,90,91,92,93,96,97,98,99,102,103,104,105,108,109,110,111,114,115,116,117,121,122,123,124,126,127,130,131,132,133,135,136,139,140,141,142,144,145,148,149,150,151,153,154,157,158,159,160,162,163,166,167,168,169,171,172,173,174,175,176,177,178,179,181,182,183,184,185,188,189,191,192,194,195,197,198,200,201,203,204,205,206,207,208,209,223,227,239,240,245,251,253,263,264,265,267) have mixed types. Specify dtype option on import or set low_memory=False.\n",
      "  survey = pd.read_csv(\"data_raw/survey_raw_12_11_24.csv\")\n"
     ]
    }
   ],
   "source": [
    "# Read the CSV file\n",
    "survey = pd.read_csv(\"data_raw/survey_raw_12_11_24.csv\")\n",
    "# Clean column names\n",
    "survey=clean_columns(survey)\n",
    "\n",
    "# remove useless columns\n",
    "survey = survey.drop(columns=[\"identifier\", \"id\", \"started\", \"survey_symptoms_skip\", \"survey_gastro_skip\", \"survey_resp_skip\", \"survey_skin_skip\", \"survey_body_skip\", \"survey_swelling_skip\"] + list(survey.loc[:, \"location_ts\":\"context_air_quality_random_recommendations_sport\"].columns))\n",
    "# remove useless rows\n",
    "survey = survey.drop([0,1])"
   ]
  },
  {
   "cell_type": "code",
   "execution_count": 3,
   "metadata": {},
   "outputs": [],
   "source": [
    "# Ensure the 'finished' column is in datetime format\n",
    "survey['finished'] = pd.to_datetime(survey['finished'], format='ISO8601')"
   ]
  },
  {
   "cell_type": "code",
   "execution_count": 4,
   "metadata": {},
   "outputs": [],
   "source": [
    "# Apply fillna(0) to the selected columns in one line\n",
    "survey.loc[:, \"survey_gastro_gastro_0\":\"survey_day\"]=survey.loc[:, \"survey_gastro_gastro_0\":\"survey_day\"].fillna(0)"
   ]
  },
  {
   "cell_type": "code",
   "execution_count": 5,
   "metadata": {},
   "outputs": [],
   "source": [
    "# Change character string to numeric\n",
    "survey.loc[:, 'survey_body_other'] = survey.loc[:, 'survey_body_other'].apply(lambda x: 0 if x == '0' else 1)\n",
    "survey.loc[:, \"survey_swelling_swelling_points_0\":\"survey_swelling_swelling_points_7\"] = survey.loc[:, \"survey_swelling_swelling_points_0\":\"survey_swelling_swelling_points_7\"].map(lambda x: 0 if x == 0 else 1)"
   ]
  },
  {
   "cell_type": "code",
   "execution_count": 6,
   "metadata": {},
   "outputs": [],
   "source": [
    "# Transform to numeric all columns\n",
    "cols = survey.loc[:, \"survey_gastro_gastro_0\":\"survey_day\"].columns\n",
    "survey[cols] = survey[cols].apply(pd.to_numeric, errors='coerce', axis=0)"
   ]
  },
  {
   "cell_type": "code",
   "execution_count": 7,
   "metadata": {},
   "outputs": [],
   "source": [
    "# Create the new columns with the conditions\n",
    "survey['gastro_any'] = np.where(survey.loc[:, 'survey_gastro_gastro_0':'survey_gastro_gastro_4'].max(axis=1, skipna=True) != 0, 'Yes', 'No')\n",
    "survey['respi_any'] = np.where(survey.loc[:, 'survey_resp_resp_0':'survey_resp_resp_4'].max(axis=1, skipna=True) != 0, 'Yes', 'No')\n",
    "survey['skin_any'] = np.where(survey.loc[:, 'survey_skin_skin_0':'survey_skin_skin_4'].max(axis=1, skipna=True) != 0, 'Yes', 'No')\n",
    "survey['body_any'] = np.where(survey.loc[:, 'survey_body_fever':'survey_body_other'].max(axis=1, skipna=True) != 0, 'Yes', 'No')\n",
    "survey['joint_any'] = np.where(survey.loc[:, 'survey_swelling_swelling_0':'survey_swelling_swelling_1'].max(axis=1, skipna=True) != 0, 'Yes', 'No')\n"
   ]
  },
  {
   "cell_type": "code",
   "execution_count": 8,
   "metadata": {},
   "outputs": [],
   "source": [
    "# Create the new columns with selling locations\n",
    "points = [\n",
    "    'survey_swelling_swelling_points_0', 'survey_swelling_swelling_points_1', 'survey_swelling_swelling_points_2',\n",
    "    'survey_swelling_swelling_points_3', 'survey_swelling_swelling_points_4', 'survey_swelling_swelling_points_5',\n",
    "    'survey_swelling_swelling_points_6', 'survey_swelling_swelling_points_7'\n",
    "]\n",
    "\n",
    "# Define the conditions based on your R code logic\n",
    "conditions = [\n",
    "    (survey.loc[:, points[1:]].eq(0).all(axis=1) & (survey[points[0]] == 1)),\n",
    "    (survey.loc[:, points[2:]].eq(0).all(axis=1) & (survey[points[0]] == 0) & (survey[points[1]] == 1)),\n",
    "    (survey.loc[:, points[3:]].eq(0).all(axis=1) & (survey.loc[:, points[:2]].eq(0).all(axis=1)) & (survey[points[2]] == 1)),\n",
    "    (survey.loc[:, points[4:]].eq(0).all(axis=1) & (survey.loc[:, points[:3]].eq(0).all(axis=1)) & (survey[points[3]] == 1)),\n",
    "    (survey.loc[:, points[5:]].eq(0).all(axis=1) & (survey.loc[:, points[:4]].eq(0).all(axis=1)) & (survey[points[4]] == 1)),\n",
    "    (survey.loc[:, points[6:]].eq(0).all(axis=1) & (survey.loc[:, points[:5]].eq(0).all(axis=1)) & (survey[points[5]] == 1)),\n",
    "    ((survey[points[7]] == 0) & (survey.loc[:, points[:6]].eq(0).all(axis=1)) & (survey[points[6]] == 1)),\n",
    "    (survey.loc[:, points[:7]].eq(0).all(axis=1) & (survey[points[7]] == 1)),\n",
    "    (survey.loc[:, points].eq(0).all(axis=1))\n",
    "]\n",
    "\n",
    "choices = ['Shoulder', 'Elbow', 'Wrist', 'Fingers', 'Hip', 'Knee', 'Ankle', 'Toes', 'None']\n",
    "\n",
    "# Apply the conditions and choices to create the new column\n",
    "survey['survey_swelling_location'] = np.select(conditions, choices, default='Multiple')\n",
    "\n",
    "# Print the value counts for 'survey_swelling_location' to verify the results\n",
    "# print(survey['survey_swelling_location'].value_counts())"
   ]
  },
  {
   "cell_type": "code",
   "execution_count": 9,
   "metadata": {},
   "outputs": [],
   "source": [
    "# Transform numeric to intensity\n",
    "def transform_value(x):\n",
    "    if x == 0:\n",
    "        return \"none\"\n",
    "    elif x == 1:\n",
    "        return \"mild\"\n",
    "    elif x == 2:\n",
    "        return \"moderate\"\n",
    "    elif x == 3:\n",
    "        return \"bad\"\n",
    "    elif x == 4:\n",
    "        return \"very bad\"\n",
    "    elif x == 5:\n",
    "        return \"medical\"\n",
    "    else:\n",
    "        return np.nan\n",
    "\n",
    "# List of columns to transform\n",
    "columns_to_transform = (survey.loc[:, \"survey_gastro_gastro_0\":\"survey_skin_skin_4\"].columns.tolist() +\n",
    "                        survey.loc[:, \"survey_body_body_0\":\"survey_body_body_5\"].columns.tolist() +\n",
    "                        survey.loc[:, \"survey_swelling_swelling_0\":\"survey_swelling_swelling_1\"].columns.tolist())\n",
    "\n",
    "# Cast columns to object dtype to allow for string assignment\n",
    "survey[columns_to_transform] = survey[columns_to_transform].astype(object)\n",
    "\n",
    "# Apply the transformation\n",
    "survey[columns_to_transform] = survey[columns_to_transform].map(transform_value)"
   ]
  },
  {
   "cell_type": "code",
   "execution_count": 10,
   "metadata": {},
   "outputs": [],
   "source": [
    "# Transform specific column\n",
    "def transform_survey_body_fever(x):\n",
    "    if x == 0:\n",
    "        return \"none\"\n",
    "    elif x == 1:\n",
    "        return \"not mesured\"\n",
    "    elif x == 2:\n",
    "        return \"over 37.5\"\n",
    "    elif x == 3:\n",
    "        return \"between 37.5 and 39\"\n",
    "    elif x == 4:\n",
    "        return \"over 39\"\n",
    "    else:\n",
    "        return np.nan\n",
    "\n",
    "def transform_survey_impact(x):\n",
    "    if x == 0:\n",
    "        return \"Did not affect my activities\"\n",
    "    elif x == 1:\n",
    "        return \"Had a slight negative impact\"\n",
    "    elif x == 2:\n",
    "        return \"Had a moderate negative impact\"\n",
    "    elif x == 3:\n",
    "        return \"Had a major negative impact\"\n",
    "    elif x == 4:\n",
    "        return \"I couldnt do my daily activities due to my symptoms\"\n",
    "    elif x == 5:\n",
    "        return \"I had to seek medical attention for my symptoms\"\n",
    "    elif x == 6:\n",
    "        return \"I was hospitalised\"\n",
    "    else:\n",
    "        return np.nan\n",
    "\n",
    "def transform_survey_day(x):\n",
    "    if x == 0:\n",
    "        return \"It was a great day\"\n",
    "    elif x == 1:\n",
    "        return \"It was a good day\"\n",
    "    elif x == 2:\n",
    "        return \"It was an okay day\"\n",
    "    elif x == 3:\n",
    "        return \"It was quite a bad day\"\n",
    "    elif x == 4:\n",
    "        return \"It was a really bad day\"\n",
    "    else:\n",
    "        return np.nan\n",
    "\n",
    "def transform_survey_body_other(x):\n",
    "    if x == 0:\n",
    "        return \"No\"\n",
    "    elif x == 1:\n",
    "        return \"Yes\"\n",
    "    else:\n",
    "        return np.nan\n",
    "\n",
    "# Apply the transformations\n",
    "survey['survey_body_fever'] = survey['survey_body_fever'].apply(transform_survey_body_fever)\n",
    "survey['survey_impact'] = survey['survey_impact'].apply(transform_survey_impact)\n",
    "survey['survey_day'] = survey['survey_day'].apply(transform_survey_day)\n",
    "survey['survey_body_other'] = survey['survey_body_other'].apply(transform_survey_body_other)"
   ]
  },
  {
   "cell_type": "code",
   "execution_count": 11,
   "metadata": {},
   "outputs": [],
   "source": [
    "# Define the columns to rename\n",
    "rename_columns = {\n",
    "    'baseline': 'trip_id',\n",
    "    'survey_gastro_gastro_0': 'nausea',\n",
    "    'survey_gastro_gastro_1': 'vomiting',\n",
    "    'survey_gastro_gastro_2': 'stomach_pain',\n",
    "    'survey_gastro_gastro_3': 'diarrhea',\n",
    "    'survey_gastro_gastro_4': 'constipation',\n",
    "    'survey_resp_resp_0': 'cough',\n",
    "    'survey_resp_resp_1': 'sore_throat',\n",
    "    'survey_resp_resp_2': 'runny_nose',\n",
    "    'survey_resp_resp_3': 'out_of_breath_resting',\n",
    "    'survey_resp_resp_4': 'out_of_breath_running',\n",
    "    'survey_skin_skin_0': 'rash',\n",
    "    'survey_skin_skin_1': 'itchy_insect_bite',\n",
    "    'survey_skin_skin_2': 'itchy_other',\n",
    "    'survey_skin_skin_3': 'sunburn',\n",
    "    'survey_skin_skin_4': 'itchy_red_eyes',\n",
    "    'survey_body_fever': 'fever',\n",
    "    'survey_body_body_0': 'dizziness',\n",
    "    'survey_body_body_1': 'ear_ache',\n",
    "    'survey_body_body_2': 'headache',\n",
    "    'survey_body_body_3': 'pain_eyes',\n",
    "    'survey_body_body_4': 'musle_pain',\n",
    "    'survey_body_body_5': 'aching_limbs',\n",
    "    'survey_body_other': 'body_other',\n",
    "    'survey_swelling_swelling_0': 'pain_joint',\n",
    "    'survey_swelling_swelling_1': 'swelling_joint',\n",
    "    'survey_swelling_location': 'location_swelling',\n",
    "    'survey_impact': 'impact',\n",
    "    'survey_day': 'rating_day',\n",
    "    'longitude': 'survey_longitude',\n",
    "    'latitude': 'survey_latitude',\n",
    "\n",
    "}\n",
    "\n",
    "# Rename columns\n",
    "survey.rename(columns=rename_columns, inplace=True)\n",
    "\n",
    "# Select the required columns in the specified order\n",
    "# Get all columns from 'latitude' to 'context_weather_timezone' inclusively\n",
    "latitude_index = survey.columns.get_loc('survey_latitude')\n",
    "context_weather_timezone_index = survey.columns.get_loc('context_weather_timezone')\n",
    "between_columns = survey.columns[latitude_index:context_weather_timezone_index + 1].tolist()\n",
    "\n",
    "selected_columns = [\n",
    "    'trip_id', 'user_id', 'finished', 'gastro_any', 'nausea', 'vomiting', 'stomach_pain',\n",
    "    'diarrhea', 'constipation', 'respi_any', 'cough', 'sore_throat', 'runny_nose', 'out_of_breath_resting',\n",
    "    'out_of_breath_running', 'skin_any', 'rash', 'itchy_insect_bite', 'itchy_other', 'sunburn', 'itchy_red_eyes',\n",
    "    'body_any', 'fever', 'dizziness', 'ear_ache', 'headache', 'pain_eyes', 'musle_pain', 'aching_limbs',\n",
    "    'body_other', 'joint_any', 'pain_joint', 'swelling_joint', 'location_swelling', 'impact', 'rating_day'\n",
    "] + between_columns\n",
    "\n",
    "# Create the final DataFrame with selected and renamed columns\n",
    "survey = survey[selected_columns]"
   ]
  },
  {
   "cell_type": "code",
   "execution_count": 12,
   "metadata": {},
   "outputs": [],
   "source": [
    "survey.drop(columns=['context_open_weather_air_quality_dt', 'context_open_weather_dt'] + list(survey.loc[:, 'context_open_weather_air_quality_message':'context_weather_timezone'].columns), inplace=True)"
   ]
  },
  {
   "cell_type": "code",
   "execution_count": 13,
   "metadata": {},
   "outputs": [],
   "source": [
    "# Get the column names between the specified columns\n",
    "columns_to_rename = survey.loc[:, 'context_open_weather_clouds':'context_open_weather_air_quality_main_aqi'].columns\n",
    "\n",
    "# Rename the columns by removing the specified substring\n",
    "survey.rename(columns={col: col.replace(\"context_open_weather_\", \"\") for col in columns_to_rename}, inplace=True)"
   ]
  },
  {
   "cell_type": "code",
   "execution_count": 14,
   "metadata": {},
   "outputs": [],
   "source": [
    "def extract_weather_details(weather):\n",
    "    # Ensure the value is a string\n",
    "    if not isinstance(weather, str):\n",
    "        return pd.Series([None, None])\n",
    "    try:\n",
    "        # Convert the JSON string to a list of dictionaries\n",
    "        weather_list = json.loads(weather)\n",
    "        \n",
    "        # Extract the first dictionary from the list\n",
    "        if isinstance(weather_list, list) and len(weather_list) > 0:\n",
    "            weather_dict = weather_list[0]\n",
    "        else:\n",
    "            return pd.Series([None, None])\n",
    "        \n",
    "        # Extract the description and main fields\n",
    "        description = weather_dict.get('description', '').lower()\n",
    "        main = weather_dict.get('main', '').lower()\n",
    "        \n",
    "        # Return the extracted values\n",
    "        return pd.Series([description, main])\n",
    "    except json.JSONDecodeError:\n",
    "        return pd.Series([None, None])\n",
    "\n",
    "# Apply the transformation to the 'weather' column\n",
    "survey[['description_weather', 'main_weather']] = survey['weather'].apply(extract_weather_details)"
   ]
  },
  {
   "cell_type": "code",
   "execution_count": 15,
   "metadata": {},
   "outputs": [],
   "source": [
    "survey = survey[survey.columns[:survey.columns.get_loc('weather') + 1].tolist() + ['main_weather', 'description_weather'] + survey.columns[survey.columns.get_loc('weather') + 1:].difference(['main_weather', 'description_weather']).tolist()]"
   ]
  },
  {
   "cell_type": "code",
   "execution_count": 16,
   "metadata": {},
   "outputs": [],
   "source": [
    "def transform_air_quality_main_aqi(x):\n",
    "    if x == 1:\n",
    "        return \"Good\"\n",
    "    elif x == 2:\n",
    "        return \"Fair\"\n",
    "    elif x == 3:\n",
    "        return \"Moderate\"\n",
    "    elif x == 4:\n",
    "        return \"Poor\"\n",
    "    elif x == 5:\n",
    "        return \"Very Poor\"\n",
    "    else:\n",
    "        return np.nan\n",
    "    \n",
    "survey['air_quality_main'] = survey['air_quality_main_aqi'].apply(transform_air_quality_main_aqi)"
   ]
  },
  {
   "cell_type": "code",
   "execution_count": 17,
   "metadata": {},
   "outputs": [],
   "source": [
    "survey = survey.drop(columns=['weather','air_quality_main_aqi', 'air_quality','air_quality_cod'])"
   ]
  },
  {
   "cell_type": "code",
   "execution_count": 18,
   "metadata": {},
   "outputs": [],
   "source": [
    "# Define the conditions and corresponding values\n",
    "conditions = [\n",
    "    (survey['user_id'] == \"1WWbzEPDcCdvF5MYSecOg5jvC9i2\") & (survey['finished'] <= \"2022-02-22\"),\n",
    "    (survey['user_id'] == \"71dWvTtxniTevm5Wrw7wazKjit93\") & (survey['finished'] <= \"2022-04-10\"),\n",
    "    (survey['user_id'] == \"dPhQWSZVVFWrR1kWAGACyMLWXzW2\") & (survey['finished'] <= \"2022-05-12\"),\n",
    "    (survey['user_id'] == \"hheBd0VfyLZLE43RaHbRPAidZmH2\") & (survey['finished'] <= \"2022-03-15\"),\n",
    "    (survey['user_id'] == \"hheBd0VfyLZLE43RaHbRPAidZmH2\") & (survey['finished'] >= \"2022-05-16\") & (survey['finished'] <= \"2022-05-20\"),\n",
    "    (survey['user_id'] == \"hheBd0VfyLZLE43RaHbRPAidZmH2\") & (survey['finished'] >= \"2022-05-22\") & (survey['finished'] <= \"2022-06-13\"),\n",
    "    (survey['user_id'] == \"RkLw5FTR8MhwINeTcgdgZ6hArTB3\") & (survey['finished'] <= \"2022-03-20\"),\n",
    "    (survey['user_id'] == \"RkLw5FTR8MhwINeTcgdgZ6hArTB3\") & (survey['finished'] >= \"2022-03-22\") & (survey['finished'] <= \"2022-04-15\"),\n",
    "    (survey['user_id'] == \"YJGqDTCqAONjhLyD95zyYmI7ZGg1\") & (survey['finished'] <= \"2022-02-02\"),\n",
    "    (survey['user_id'] == \"YJGqDTCqAONjhLyD95zyYmI7ZGg1\") & (survey['finished'] >= \"2022-02-02\") & (survey['finished'] <= \"2022-02-15\"),\n",
    "    (survey['user_id'] == \"YJGqDTCqAONjhLyD95zyYmI7ZGg1\") & (survey['finished'] >= \"2022-02-15\") & (survey['finished'] <= \"2022-02-20\"),\n",
    "    (survey['user_id'] == \"YJGqDTCqAONjhLyD95zyYmI7ZGg1\") & (survey['finished'] >= \"2022-02-20\") & (survey['finished'] <= \"2022-03-01\"),\n",
    "    (survey['user_id'] == \"YJGqDTCqAONjhLyD95zyYmI7ZGg1\") & (survey['finished'] >= \"2022-06-07\") & (survey['finished'] <= \"2022-06-18\"),\n",
    "    (survey['user_id'] == \"oiAYJMPUzEYF2XBfXowW3ZHMZGC2\") & (survey['finished'] <= \"2022-06-27\"),\n",
    "    (survey['user_id'] == \"o2P057Mx0MOJ6TbH1HEtWfeQ7V42\") & (survey['finished'] <= \"2022-05-13\")\n",
    "]\n",
    "\n",
    "# Corresponding trip_id values\n",
    "trip_ids = [\n",
    "    \"iyqJJDPXtJGOm7w8C0e3\", \"jyVTWhKB9JR0mgHrd3E8\", \"hFQOdz2iXfbzZfdLV7W5\", \"yYKMdTUC4ldMHvIIhpso\", \"n6Ec93wurCFoe4RyARDi\",\n",
    "    \"J2JyYjbwPRjFLcV7ziPl\", \"Q7TwsPMKyt36xrIaNDRH\", \"XtQLWU0fmNWcg5r34gAp\", \"uHxtXugIMW5MT6sgHr9L\", \"cDMnNEILi40EuLC3OBNL\",\n",
    "    \"eA4w4WDx7fCH25Fy4VU2\", \"A5zwFHqlRMbDJSlrEn8G\", \"dny3jLpYlL4b8I4s6KaA\", np.nan, np.nan\n",
    "]\n",
    "\n",
    "# Apply the conditions to update the trip_id\n",
    "for condition, trip_id in zip(conditions, trip_ids):\n",
    "    survey.loc[condition, 'trip_id'] = trip_id\n",
    "\n",
    "# Filter out rows with no finished date or trip_id\n",
    "survey = survey.dropna(subset=['finished', 'trip_id'])\n"
   ]
  },
  {
   "cell_type": "code",
   "execution_count": 19,
   "metadata": {},
   "outputs": [],
   "source": [
    "# Create a new column 'finished_day' which contains only the date part of 'finished'\n",
    "survey['finished_day'] = survey['finished'].dt.date\n",
    "\n",
    "# Remove duplicates based on 'trip_id' and 'finished_day', keeping the first occurrence\n",
    "survey = survey.drop_duplicates(subset=['trip_id', 'finished_day'], keep='first')\n",
    "\n",
    "# Drop the 'finished_day' column if you no longer need it\n",
    "survey = survey.drop(columns=['finished_day'])"
   ]
  },
  {
   "cell_type": "code",
   "execution_count": 20,
   "metadata": {},
   "outputs": [
    {
     "name": "stdout",
     "output_type": "stream",
     "text": [
      "<class 'pandas.core.frame.DataFrame'>\n",
      "Index: 7420 entries, 105 to 8252\n",
      "Data columns (total 64 columns):\n",
      " #   Column                         Non-Null Count  Dtype         \n",
      "---  ------                         --------------  -----         \n",
      " 0   trip_id                        7420 non-null   object        \n",
      " 1   user_id                        7420 non-null   object        \n",
      " 2   finished                       7420 non-null   datetime64[ns]\n",
      " 3   gastro_any                     7420 non-null   object        \n",
      " 4   nausea                         7420 non-null   object        \n",
      " 5   vomiting                       7420 non-null   object        \n",
      " 6   stomach_pain                   7420 non-null   object        \n",
      " 7   diarrhea                       7420 non-null   object        \n",
      " 8   constipation                   7420 non-null   object        \n",
      " 9   respi_any                      7420 non-null   object        \n",
      " 10  cough                          7420 non-null   object        \n",
      " 11  sore_throat                    7420 non-null   object        \n",
      " 12  runny_nose                     7420 non-null   object        \n",
      " 13  out_of_breath_resting          7420 non-null   object        \n",
      " 14  out_of_breath_running          7420 non-null   object        \n",
      " 15  skin_any                       7420 non-null   object        \n",
      " 16  rash                           7420 non-null   object        \n",
      " 17  itchy_insect_bite              7420 non-null   object        \n",
      " 18  itchy_other                    7420 non-null   object        \n",
      " 19  sunburn                        7420 non-null   object        \n",
      " 20  itchy_red_eyes                 7420 non-null   object        \n",
      " 21  body_any                       7420 non-null   object        \n",
      " 22  fever                          7420 non-null   object        \n",
      " 23  dizziness                      7420 non-null   object        \n",
      " 24  ear_ache                       7420 non-null   object        \n",
      " 25  headache                       7420 non-null   object        \n",
      " 26  pain_eyes                      7420 non-null   object        \n",
      " 27  musle_pain                     7420 non-null   object        \n",
      " 28  aching_limbs                   7420 non-null   object        \n",
      " 29  body_other                     7420 non-null   object        \n",
      " 30  joint_any                      7420 non-null   object        \n",
      " 31  pain_joint                     7420 non-null   object        \n",
      " 32  swelling_joint                 7420 non-null   object        \n",
      " 33  location_swelling              7420 non-null   object        \n",
      " 34  impact                         7420 non-null   object        \n",
      " 35  rating_day                     7420 non-null   object        \n",
      " 36  survey_latitude                6080 non-null   float64       \n",
      " 37  survey_longitude               6080 non-null   float64       \n",
      " 38  clouds                         5658 non-null   float64       \n",
      " 39  dew_point                      5658 non-null   float64       \n",
      " 40  feels_like                     5658 non-null   float64       \n",
      " 41  humidity                       5658 non-null   float64       \n",
      " 42  pressure                       5658 non-null   float64       \n",
      " 43  rain_1h                        802 non-null    float64       \n",
      " 44  snow_1h                        9 non-null      float64       \n",
      " 45  sunrise                        5658 non-null   float64       \n",
      " 46  sunset                         5658 non-null   float64       \n",
      " 47  temp                           5658 non-null   float64       \n",
      " 48  uvi                            5658 non-null   float64       \n",
      " 49  visibility                     5658 non-null   float64       \n",
      " 50  main_weather                   5658 non-null   object        \n",
      " 51  description_weather            5658 non-null   object        \n",
      " 52  air_quality_components_co      5647 non-null   float64       \n",
      " 53  air_quality_components_nh_3    5647 non-null   float64       \n",
      " 54  air_quality_components_no      5647 non-null   float64       \n",
      " 55  air_quality_components_no_2    5647 non-null   float64       \n",
      " 56  air_quality_components_o_3     5647 non-null   float64       \n",
      " 57  air_quality_components_pm_10   5647 non-null   float64       \n",
      " 58  air_quality_components_pm_2_5  5647 non-null   float64       \n",
      " 59  air_quality_components_so_2    5647 non-null   float64       \n",
      " 60  wind_deg                       5658 non-null   float64       \n",
      " 61  wind_gust                      3690 non-null   float64       \n",
      " 62  wind_speed                     5658 non-null   float64       \n",
      " 63  air_quality_main               5644 non-null   object        \n",
      "dtypes: datetime64[ns](1), float64(25), object(38)\n",
      "memory usage: 3.7+ MB\n"
     ]
    }
   ],
   "source": [
    "survey.info(verbose=True)"
   ]
  },
  {
   "cell_type": "code",
   "execution_count": 21,
   "metadata": {},
   "outputs": [],
   "source": [
    "# for col in survey.columns:\n",
    "#     print(f\"Value counts for {col}:\")\n",
    "#     print(survey[col].value_counts())\n",
    "#     print()\n",
    "# survey.info(verbose=True)\n",
    "# Assuming 'full' is your DataFrame\n",
    "survey.to_pickle('data_clean/survey_clean.pkl')"
   ]
  }
 ],
 "metadata": {
  "colab": {
   "authorship_tag": "ABX9TyMS8CahwblIpy71ImhL4S8G",
   "mount_file_id": "1urgctNV6NtdNn9xBNAUaMIE6j5T5u64f",
   "provenance": []
  },
  "kernelspec": {
   "display_name": "Python 3",
   "name": "python3"
  },
  "language_info": {
   "codemirror_mode": {
    "name": "ipython",
    "version": 3
   },
   "file_extension": ".py",
   "mimetype": "text/x-python",
   "name": "python",
   "nbconvert_exporter": "python",
   "pygments_lexer": "ipython3",
   "version": "3.12.8"
  }
 },
 "nbformat": 4,
 "nbformat_minor": 0
}
